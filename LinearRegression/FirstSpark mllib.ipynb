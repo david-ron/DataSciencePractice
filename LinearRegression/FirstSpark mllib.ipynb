{
 "cells": [
  {
   "cell_type": "code",
   "execution_count": 1,
   "metadata": {},
   "outputs": [],
   "source": [
    "from pyspark.sql import SparkSession\n",
    "from pyspark.ml.linalg import Vectors\n",
    "from pyspark.ml.feature import VectorAssembler\n",
    "from pyspark.ml.regression import LinearRegression"
   ]
  },
  {
   "cell_type": "code",
   "execution_count": 6,
   "metadata": {},
   "outputs": [
    {
     "name": "stdout",
     "output_type": "stream",
     "text": [
      "+-------------------+--------------------+\n",
      "|              label|            features|\n",
      "+-------------------+--------------------+\n",
      "| -9.490009878824548|(10,[0,1,2,3,4,5,...|\n",
      "| 0.2577820163584905|(10,[0,1,2,3,4,5,...|\n",
      "| -4.438869807456516|(10,[0,1,2,3,4,5,...|\n",
      "|-19.782762789614537|(10,[0,1,2,3,4,5,...|\n",
      "| -7.966593841555266|(10,[0,1,2,3,4,5,...|\n",
      "| -7.896274316726144|(10,[0,1,2,3,4,5,...|\n",
      "| -8.464803554195287|(10,[0,1,2,3,4,5,...|\n",
      "| 2.1214592666251364|(10,[0,1,2,3,4,5,...|\n",
      "| 1.0720117616524107|(10,[0,1,2,3,4,5,...|\n",
      "|-13.772441561702871|(10,[0,1,2,3,4,5,...|\n",
      "| -5.082010756207233|(10,[0,1,2,3,4,5,...|\n",
      "|  7.887786536531237|(10,[0,1,2,3,4,5,...|\n",
      "| 14.323146365332388|(10,[0,1,2,3,4,5,...|\n",
      "|-20.057482615789212|(10,[0,1,2,3,4,5,...|\n",
      "|-0.8995693247765151|(10,[0,1,2,3,4,5,...|\n",
      "| -19.16829262296376|(10,[0,1,2,3,4,5,...|\n",
      "|  5.601801561245534|(10,[0,1,2,3,4,5,...|\n",
      "|-3.2256352187273354|(10,[0,1,2,3,4,5,...|\n",
      "| 1.5299675726687754|(10,[0,1,2,3,4,5,...|\n",
      "| -0.250102447941961|(10,[0,1,2,3,4,5,...|\n",
      "+-------------------+--------------------+\n",
      "only showing top 20 rows\n",
      "\n"
     ]
    }
   ],
   "source": [
    "spark = SparkSession.builder.appName(\"this\").getOrCreate()\n",
    "\n",
    "data = spark.read.format('libsvm').load(\"/Users/david/gitProjects/Sparkmllib/sample_linear_regression_data.txt\",inferSchema=True, header=True)\n",
    "data.show()"
   ]
  },
  {
   "cell_type": "code",
   "execution_count": 8,
   "metadata": {},
   "outputs": [],
   "source": [
    "train,test = data.randomSplit([0.7,0.3])"
   ]
  },
  {
   "cell_type": "code",
   "execution_count": 18,
   "metadata": {},
   "outputs": [],
   "source": [
    "lr = LinearRegression(featuresCol='features',labelCol = 'label',predictionCol='predicition')\n",
    "model = lr.fit(train)\n",
    "results = model.evaluate(test)"
   ]
  },
  {
   "cell_type": "code",
   "execution_count": 21,
   "metadata": {},
   "outputs": [
    {
     "name": "stdout",
     "output_type": "stream",
     "text": [
      "+-------------------+\n",
      "|          residuals|\n",
      "+-------------------+\n",
      "|-27.631392010320198|\n",
      "|-24.958414951043295|\n",
      "| -23.95579398874062|\n",
      "|-24.236476883969843|\n",
      "|-21.646042259178508|\n",
      "| -22.37786686911923|\n",
      "|-20.097283325997836|\n",
      "|-16.966534189786877|\n",
      "|-15.429339696687263|\n",
      "|-14.757388973691402|\n",
      "|-13.226615441308352|\n",
      "|-14.316099578805765|\n",
      "|-12.852708110813326|\n",
      "| -12.49960572389661|\n",
      "|-11.769051111024968|\n",
      "|-11.457933063798132|\n",
      "| -9.456654351606844|\n",
      "|-13.604015845231455|\n",
      "|-10.720496019900565|\n",
      "|-11.783054802185918|\n",
      "+-------------------+\n",
      "only showing top 20 rows\n",
      "\n",
      "10.990390701549149\n",
      "0.02031929619143691\n"
     ]
    }
   ],
   "source": [
    "\n",
    "\n",
    "results.residuals.show()\n",
    "##error rootmeanssquared\n",
    "print (results.rootMeanSquaredError)\n",
    "print(results.r2)\n"
   ]
  },
  {
   "cell_type": "code",
   "execution_count": 23,
   "metadata": {},
   "outputs": [
    {
     "data": {
      "text/plain": [
       "DenseVector([-0.3725, 1.2273, 0.1641, 1.3938, 0.5653, 1.165, -0.6274, -0.3416, 0.1139, 0.3284])"
      ]
     },
     "execution_count": 23,
     "metadata": {},
     "output_type": "execute_result"
    }
   ],
   "source": [
    "model.coefficients"
   ]
  },
  {
   "cell_type": "code",
   "execution_count": 22,
   "metadata": {},
   "outputs": [
    {
     "data": {
      "text/plain": [
       "0.043310000703198334"
      ]
     },
     "execution_count": 22,
     "metadata": {},
     "output_type": "execute_result"
    }
   ],
   "source": [
    "model.intercept"
   ]
  },
  {
   "cell_type": "code",
   "execution_count": 25,
   "metadata": {},
   "outputs": [
    {
     "name": "stdout",
     "output_type": "stream",
     "text": [
      "+-------+-------------------+\n",
      "|summary|              label|\n",
      "+-------+-------------------+\n",
      "|  count|                501|\n",
      "|   mean|0.25688882219498976|\n",
      "| stddev| 10.317884030544564|\n",
      "|    min|-28.571478869743427|\n",
      "|    max|  27.78383192005107|\n",
      "+-------+-------------------+\n",
      "\n"
     ]
    }
   ],
   "source": [
    "data.describe().show()"
   ]
  },
  {
   "cell_type": "code",
   "execution_count": 32,
   "metadata": {},
   "outputs": [],
   "source": [
    "unlabeleddata = test.select('features')\n",
    "\n",
    "predictions = model.transform(unlabeleddata)"
   ]
  },
  {
   "cell_type": "code",
   "execution_count": 33,
   "metadata": {},
   "outputs": [
    {
     "name": "stdout",
     "output_type": "stream",
     "text": [
      "+--------------------+--------------------+\n",
      "|            features|         predicition|\n",
      "+--------------------+--------------------+\n",
      "|(10,[0,1,2,3,4,5,...| -0.9400868594232288|\n",
      "|(10,[0,1,2,3,4,5,...| -1.7777922315584294|\n",
      "|(10,[0,1,2,3,4,5,...|  0.4683538678041088|\n",
      "|(10,[0,1,2,3,4,5,...|  1.2866509477737698|\n",
      "|(10,[0,1,2,3,4,5,...| -1.1914181577408347|\n",
      "|(10,[0,1,2,3,4,5,...|  0.9454791049534231|\n",
      "|(10,[0,1,2,3,4,5,...| 0.42996471062611574|\n",
      "|(10,[0,1,2,3,4,5,...|   1.015021623992305|\n",
      "|(10,[0,1,2,3,4,5,...|-0.00804509674395422|\n",
      "|(10,[0,1,2,3,4,5,...| -0.6184687496208952|\n",
      "|(10,[0,1,2,3,4,5,...| -0.7495154898443508|\n",
      "|(10,[0,1,2,3,4,5,...|  1.3382508534136626|\n",
      "|(10,[0,1,2,3,4,5,...|  0.2941323219571384|\n",
      "|(10,[0,1,2,3,4,5,...|-0.00116806145844...|\n",
      "|(10,[0,1,2,3,4,5,...| -0.7102291004265293|\n",
      "|(10,[0,1,2,3,4,5,...| -1.0097233172347286|\n",
      "|(10,[0,1,2,3,4,5,...|  -2.954292051233317|\n",
      "|(10,[0,1,2,3,4,5,...|  1.4059192805700431|\n",
      "|(10,[0,1,2,3,4,5,...|  -1.409857192387364|\n",
      "|(10,[0,1,2,3,4,5,...| -0.3112964763493407|\n",
      "+--------------------+--------------------+\n",
      "only showing top 20 rows\n",
      "\n"
     ]
    }
   ],
   "source": [
    "predictions.show()\n"
   ]
  },
  {
   "cell_type": "code",
   "execution_count": null,
   "metadata": {},
   "outputs": [],
   "source": []
  },
  {
   "cell_type": "code",
   "execution_count": null,
   "metadata": {},
   "outputs": [],
   "source": []
  }
 ],
 "metadata": {
  "kernelspec": {
   "display_name": "Python 3",
   "language": "python",
   "name": "python3"
  },
  "language_info": {
   "codemirror_mode": {
    "name": "ipython",
    "version": 3
   },
   "file_extension": ".py",
   "mimetype": "text/x-python",
   "name": "python",
   "nbconvert_exporter": "python",
   "pygments_lexer": "ipython3",
   "version": "3.6.4"
  }
 },
 "nbformat": 4,
 "nbformat_minor": 2
}
